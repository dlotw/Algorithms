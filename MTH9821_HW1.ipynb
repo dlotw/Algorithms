{
  "cells": [
    {
      "cell_type": "markdown",
      "metadata": {
        "id": "view-in-github",
        "colab_type": "text"
      },
      "source": [
        "<a href=\"https://colab.research.google.com/github/dlotw/Algorithms/blob/master/MTH9821_HW1.ipynb\" target=\"_parent\"><img src=\"https://colab.research.google.com/assets/colab-badge.svg\" alt=\"Open In Colab\"/></a>"
      ]
    },
    {
      "cell_type": "code",
      "execution_count": 1,
      "metadata": {
        "id": "kz_xqEd4HH8q"
      },
      "outputs": [],
      "source": [
        "import numpy as np\n",
        "import pandas as pd\n",
        "import random\n",
        "import math\n",
        "from scipy.stats import norm"
      ]
    },
    {
      "cell_type": "code",
      "execution_count": 2,
      "metadata": {
        "id": "hWws07geHH8s"
      },
      "outputs": [],
      "source": [
        "# question 1.1\n",
        "# parameters\n",
        "a0 = 2.50662823884\n",
        "b0 = -8.47351093090\n",
        "a1 = -18.61500062529\n",
        "b1 = 23.08336743743\n",
        "a2 = 41.39119773534\n",
        "b2 = -21.06224101826\n",
        "a3 = -25.44106049637\n",
        "b3 = 3.13082909833\n",
        "c0 = 0.3374754822726147\n",
        "c5 = 0.0003951896511919\n",
        "c1 = 0.9761690190917186\n",
        "c6 = 0.0000321767881768\n",
        "c2 = 0.1607979714918209\n",
        "c7 = 0.0000002888167364\n",
        "c3 = 0.0276438810333863\n",
        "c8 = 0.0000003960315187\n",
        "c4 = 0.0038405729373609\n",
        "\n",
        "# Beasley–Springer–Moro algorithm function\n",
        "def bsm(u: float):\n",
        "    \"\"\"\n",
        "    intput: u is between 0 and 1\n",
        "    output: x, approximation to \\phi^-1(u)\n",
        "    \"\"\"\n",
        "    y = u - 0.5\n",
        "    if abs(y) < 0.42:\n",
        "        r = y * y\n",
        "        x = y * (((a3 * r + a2) * r + a1) * r + a0) / ((((b3 * r + b2) * r + b1) * r + b0) * r + 1)\n",
        "    else:\n",
        "        r = u\n",
        "        if y > 0: r = 1 - u\n",
        "        r = math.log(-math.log(r))\n",
        "        x = c0 + r * (c1 + r * (c2 + r * (c3 + r * (c4+ r * (c5 + r * (c6 + r * (c7 + r * c8)))))))\n",
        "        if y < 0:\n",
        "            x = -x\n",
        "    return x\n",
        ""
      ]
    },
    {
      "cell_type": "code",
      "execution_count": 3,
      "metadata": {
        "id": "KblsvEcaHH8u"
      },
      "outputs": [],
      "source": [
        "# question 1.2\n",
        "def black_scholes(S, K, T, r, q, sigma, option_type):\n",
        "\n",
        "    d1 = (np.log(S / K) + (r - q + (sigma ** 2) / 2) * T) / (sigma * np.sqrt(T))\n",
        "    d2 = d1 - sigma * np.sqrt(T)\n",
        "\n",
        "    if option_type == 'call':\n",
        "        option_price = S * np.exp(-q * T) * norm.cdf(d1) - K * np.exp(-r * T) * norm.cdf(d2)\n",
        "        delta = np.exp(-q * T) * norm.cdf(d1)\n",
        "    elif option_type == 'put':\n",
        "        option_price = K * np.exp(-r * T) * norm.cdf(-d2) - S * np.exp(-q * T) * norm.cdf(-d1)\n",
        "        delta = -np.exp(-q * T) * norm.cdf(-d1)\n",
        "    else:\n",
        "        raise ValueError(\"Invalid option type. Use 'call' or 'put'.\")\n",
        "\n",
        "    gamma = np.exp(-q * T) * norm.pdf(d1) / (S * sigma * np.sqrt(T))\n",
        "    vega = S * np.exp(-q * T) * norm.pdf(d1) * np.sqrt(T)\n",
        "\n",
        "    return option_price, delta, gamma, vega"
      ]
    },
    {
      "cell_type": "code",
      "execution_count": 4,
      "metadata": {
        "colab": {
          "base_uri": "https://localhost:8080/"
        },
        "id": "EanO1EUDHH8v",
        "outputId": "3e5a06d3-b8ad-482a-b765-dac596abcb03"
      },
      "outputs": [
        {
          "output_type": "stream",
          "name": "stdout",
          "text": [
            "BSM value:\n",
            "9.227005508154036 0.586851146134764 0.018950578755008718\n"
          ]
        },
        {
          "output_type": "stream",
          "name": "stderr",
          "text": [
            "<ipython-input-4-b75609cb2964>:50: FutureWarning: The frame.append method is deprecated and will be removed from pandas in a future version. Use pandas.concat instead.\n",
            "  result_df = result_df.append({'Delta': delta, 'Delta_diff': delta_diff, 'Gamma': gamma, 'Gamma_diff': gamma_diff}, ignore_index=True)\n",
            "<ipython-input-4-b75609cb2964>:50: FutureWarning: The frame.append method is deprecated and will be removed from pandas in a future version. Use pandas.concat instead.\n",
            "  result_df = result_df.append({'Delta': delta, 'Delta_diff': delta_diff, 'Gamma': gamma, 'Gamma_diff': gamma_diff}, ignore_index=True)\n",
            "<ipython-input-4-b75609cb2964>:50: FutureWarning: The frame.append method is deprecated and will be removed from pandas in a future version. Use pandas.concat instead.\n",
            "  result_df = result_df.append({'Delta': delta, 'Delta_diff': delta_diff, 'Gamma': gamma, 'Gamma_diff': gamma_diff}, ignore_index=True)\n",
            "<ipython-input-4-b75609cb2964>:50: FutureWarning: The frame.append method is deprecated and will be removed from pandas in a future version. Use pandas.concat instead.\n",
            "  result_df = result_df.append({'Delta': delta, 'Delta_diff': delta_diff, 'Gamma': gamma, 'Gamma_diff': gamma_diff}, ignore_index=True)\n",
            "<ipython-input-4-b75609cb2964>:50: FutureWarning: The frame.append method is deprecated and will be removed from pandas in a future version. Use pandas.concat instead.\n",
            "  result_df = result_df.append({'Delta': delta, 'Delta_diff': delta_diff, 'Gamma': gamma, 'Gamma_diff': gamma_diff}, ignore_index=True)\n",
            "<ipython-input-4-b75609cb2964>:50: FutureWarning: The frame.append method is deprecated and will be removed from pandas in a future version. Use pandas.concat instead.\n",
            "  result_df = result_df.append({'Delta': delta, 'Delta_diff': delta_diff, 'Gamma': gamma, 'Gamma_diff': gamma_diff}, ignore_index=True)\n",
            "<ipython-input-4-b75609cb2964>:50: FutureWarning: The frame.append method is deprecated and will be removed from pandas in a future version. Use pandas.concat instead.\n",
            "  result_df = result_df.append({'Delta': delta, 'Delta_diff': delta_diff, 'Gamma': gamma, 'Gamma_diff': gamma_diff}, ignore_index=True)\n",
            "<ipython-input-4-b75609cb2964>:50: FutureWarning: The frame.append method is deprecated and will be removed from pandas in a future version. Use pandas.concat instead.\n",
            "  result_df = result_df.append({'Delta': delta, 'Delta_diff': delta_diff, 'Gamma': gamma, 'Gamma_diff': gamma_diff}, ignore_index=True)\n",
            "<ipython-input-4-b75609cb2964>:50: FutureWarning: The frame.append method is deprecated and will be removed from pandas in a future version. Use pandas.concat instead.\n",
            "  result_df = result_df.append({'Delta': delta, 'Delta_diff': delta_diff, 'Gamma': gamma, 'Gamma_diff': gamma_diff}, ignore_index=True)\n"
          ]
        },
        {
          "output_type": "stream",
          "name": "stdout",
          "text": [
            "Monte Carlo value:\n",
            "      Delta  Delta_diff     Gamma  Gamma_diff\n",
            "0  0.586687    0.016438  0.020190    0.123937\n",
            "1  0.590236    0.478761  0.018756    0.027557\n",
            "2  0.586199    0.130472  0.020305    0.270880\n",
            "3  0.588093    0.351273  0.020660    0.483445\n",
            "4  0.587782    0.372379  0.020448    0.599046\n",
            "5  0.586239    0.346067  0.019418    0.264689\n",
            "6  0.586397    0.363274  0.019043    0.074077\n",
            "7  0.586354    0.562058  0.019098    0.167173\n",
            "8  0.586890    0.061634  0.019086    0.216262\n",
            "9  0.586879    0.062573  0.019060    0.247508\n"
          ]
        },
        {
          "output_type": "stream",
          "name": "stderr",
          "text": [
            "<ipython-input-4-b75609cb2964>:50: FutureWarning: The frame.append method is deprecated and will be removed from pandas in a future version. Use pandas.concat instead.\n",
            "  result_df = result_df.append({'Delta': delta, 'Delta_diff': delta_diff, 'Gamma': gamma, 'Gamma_diff': gamma_diff}, ignore_index=True)\n"
          ]
        }
      ],
      "source": [
        "# question 1.4\n",
        "def calculate_option_price(S0, K, T, r, q, sigma, delta_s, num_simulations):\n",
        "    np.random.seed(42)\n",
        "    z = np.random.normal(0, 1, num_simulations)\n",
        "    # stock price\n",
        "    ST = S0 * np.exp((r - q - 0.5 * sigma**2) * T + sigma * np.sqrt(T) * z)\n",
        "    ST_plus = (S0 + delta_s) * np.exp((r - q - 0.5 * sigma**2) * T + sigma * np.sqrt(T) * z)\n",
        "    ST_minus = (S0 - delta_s) * np.exp((r - q - 0.5 * sigma**2) * T + sigma * np.sqrt(T) * z)\n",
        "    # option price\n",
        "    option_payoff = np.exp(-r * T) * (ST - K)\n",
        "    option_payoff[option_payoff < 0] = 0\n",
        "    option_price = np.mean(option_payoff)\n",
        "    option_payoff_plus = np.exp(-r * T) * (ST_plus - K)\n",
        "    option_payoff_plus[option_payoff_plus < 0] = 0\n",
        "    option_price_plus = np.mean(option_payoff_plus)\n",
        "    option_payoff_minus = np.exp(-r * T) * (ST_minus - K)\n",
        "    option_payoff_minus[option_payoff_minus < 0] = 0\n",
        "    option_price_minus = np.mean(option_payoff_minus)\n",
        "    return option_price, option_price_plus, option_price_minus\n",
        "\n",
        "# parameters\n",
        "S0 = 100  # Current stock price\n",
        "K = 100  # Strike price\n",
        "T = 1    # Time to expiration (in years)\n",
        "r = 0.05 # Risk-free interest rate\n",
        "sigma = 0.2 # Volatility\n",
        "q = 0.02  # Dividend yield\n",
        "\n",
        "# bs value and delta\n",
        "bsm_value, bsm_delta, bsm_gamma, bsm_vega = black_scholes(S0, K, T, r, q, sigma, \"call\")\n",
        "print(\"BSM value:\")\n",
        "print(bsm_value, bsm_delta, bsm_gamma)\n",
        "\n",
        "delta_s = 0.1 # delta_s\n",
        "\n",
        "result_df = pd.DataFrame(columns=['Delta', 'Delta_diff', 'Gamma', 'Gamma_diff'])\n",
        "for k in range(10):\n",
        "    N = 10000 * (2**k)\n",
        "    # option price\n",
        "    option_price, option_price_plus, option_price_minus = calculate_option_price(S0, K, T, r, q, sigma, delta_s, N)\n",
        "    # delta calculation\n",
        "    delta = (option_price_plus - option_price_minus) / (2 * delta_s)\n",
        "    # gamma calculation\n",
        "    gamma = (option_price_plus - 2 * option_price + option_price_minus) / (delta_s)**2\n",
        "    # diff from bsm value\n",
        "    delta_diff = N**0.5 * abs(delta - bsm_delta)\n",
        "    gamma_diff = N**0.5 * abs(gamma - bsm_gamma)\n",
        "    # add to result_df\n",
        "\n",
        "    result_df = result_df.append({'Delta': delta, 'Delta_diff': delta_diff, 'Gamma': gamma, 'Gamma_diff': gamma_diff}, ignore_index=True)\n",
        "\n",
        "print(\"Monte Carlo value:\")\n",
        "print(result_df)"
      ]
    },
    {
      "cell_type": "code",
      "execution_count": 5,
      "metadata": {
        "colab": {
          "base_uri": "https://localhost:8080/"
        },
        "id": "aT0IONrZHH8w",
        "outputId": "64520219-1eed-44c9-b57f-ec7fc60f9bc8"
      },
      "outputs": [
        {
          "output_type": "stream",
          "name": "stdout",
          "text": [
            "B-S value: 6.6166546586411705\n"
          ]
        }
      ],
      "source": [
        "# Q3.1\n",
        "\n",
        "S0 = 50\n",
        "K = 55\n",
        "T = 0.5\n",
        "r = 0.04\n",
        "q = 0\n",
        "sigma = 0.3\n",
        "\n",
        "bs_value, bs_delta, bs_gamma, bs_vega = black_scholes(S0, K, T, r, q, sigma, \"put\")\n",
        "print(f\"B-S value: {bs_value}\")"
      ]
    },
    {
      "cell_type": "code",
      "source": [
        "# Q3.2\n",
        "\n",
        "def linear_congruential_generator(N: int):\n",
        "    \"\"\"\n",
        "    Generates N independent samples from uniform distribution on [0,1]\n",
        "    \"\"\"\n",
        "\n",
        "    # Parameters for the Linear Congruential Generator.\n",
        "    a = 39373\n",
        "    c = 0\n",
        "    k = 2**31 - 1\n",
        "\n",
        "    samples = np.zeros(N)\n",
        "    xi = 1\n",
        "\n",
        "    for i in range(N):\n",
        "        xi = (a * xi + c) % k\n",
        "        ui = xi / k\n",
        "        samples[i] = ui\n",
        "\n",
        "    return samples\n",
        "\n",
        "def simulated_spot(S0, T, r, q, sigma, zi):\n",
        "    return S0 * np.exp((r - q - 0.5 * sigma**2) * T + sigma * np.sqrt(T) * zi)\n",
        "\n",
        "def put_payoff(Si, K, T, r):\n",
        "    return np.exp(-r * T) * np.maximum(K - Si, 0)"
      ],
      "metadata": {
        "id": "yBcEtqXz1K0y"
      },
      "execution_count": 6,
      "outputs": []
    },
    {
      "cell_type": "code",
      "source": [
        "# inverse transform\n",
        "\n",
        "a0 = 2.50662823884\n",
        "b0 = -8.47351093090\n",
        "a1 = -18.61500062529\n",
        "b1 = 23.08336743743\n",
        "a2 = 41.39119773534\n",
        "b2 = -21.06224101826\n",
        "a3 = -25.44106049637\n",
        "b3 = 3.13082909833\n",
        "c0 = 0.3374754822726147\n",
        "c5 = 0.0003951896511919\n",
        "c1 = 0.9761690190917186\n",
        "c6 = 0.0000321767881768\n",
        "c2 = 0.1607979714918209\n",
        "c7 = 0.0000002888167364\n",
        "c3 = 0.0276438810333863\n",
        "c8 = 0.0000003960315187\n",
        "c4 = 0.0038405729373609\n",
        "\n",
        "# Beasley–Springer–Moro algorithm function\n",
        "def inverse_transform(u: float):\n",
        "    \"\"\"\n",
        "    Generate independent samples from standard normal distribution by using\n",
        "    independent uniform samples with inverse transform method\n",
        "    \"\"\"\n",
        "    y = u - 0.5\n",
        "    if abs(y) < 0.42:\n",
        "        r = y * y\n",
        "        x = y * (((a3 * r + a2) * r + a1) * r + a0) / ((((b3 * r + b2) * r + b1) * r + b0) * r + 1)\n",
        "    else:\n",
        "        r = u\n",
        "        if y > 0: r = 1 - u\n",
        "        r = math.log(-math.log(r))\n",
        "        x = c0 + r * (c1 + r * (c2 + r * (c3 + r * (c4+ r * (c5 + r * (c6 + r * (c7 + r * c8)))))))\n",
        "        if y < 0:\n",
        "            x = -x\n",
        "    return x"
      ],
      "metadata": {
        "id": "QRPnfVynWszK"
      },
      "execution_count": 7,
      "outputs": []
    },
    {
      "cell_type": "code",
      "source": [
        "result_df_it = pd.DataFrame(columns=['N', 'Price', 'ERR'])\n",
        "\n",
        "for k in range(10):\n",
        "    price = 0\n",
        "    N = 10000 * (2**k)\n",
        "    U = linear_congruential_generator(N)\n",
        "    for ui in U:\n",
        "        zi = inverse_transform(ui)\n",
        "        ST = simulated_spot(S0, T, r, q, sigma, zi)\n",
        "        p = put_payoff(ST, K, T, r)\n",
        "        price += p\n",
        "    price /= N\n",
        "    err = np.abs(bs_value - price)\n",
        "\n",
        "    result_df_it = result_df_it.append({'N': N, 'Price': price, 'ERR': err}, ignore_index=True)\n",
        "\n",
        "print(result_df_it)"
      ],
      "metadata": {
        "colab": {
          "base_uri": "https://localhost:8080/"
        },
        "id": "98zQwJRb8Be0",
        "outputId": "0489400f-f2db-4875-95e4-580d4cc88083"
      },
      "execution_count": 8,
      "outputs": [
        {
          "output_type": "stream",
          "name": "stderr",
          "text": [
            "<ipython-input-8-2bff1c1749a5>:15: FutureWarning: The frame.append method is deprecated and will be removed from pandas in a future version. Use pandas.concat instead.\n",
            "  result_df_it = result_df_it.append({'N': N, 'Price': price, 'ERR': err}, ignore_index=True)\n",
            "<ipython-input-8-2bff1c1749a5>:15: FutureWarning: The frame.append method is deprecated and will be removed from pandas in a future version. Use pandas.concat instead.\n",
            "  result_df_it = result_df_it.append({'N': N, 'Price': price, 'ERR': err}, ignore_index=True)\n",
            "<ipython-input-8-2bff1c1749a5>:15: FutureWarning: The frame.append method is deprecated and will be removed from pandas in a future version. Use pandas.concat instead.\n",
            "  result_df_it = result_df_it.append({'N': N, 'Price': price, 'ERR': err}, ignore_index=True)\n",
            "<ipython-input-8-2bff1c1749a5>:15: FutureWarning: The frame.append method is deprecated and will be removed from pandas in a future version. Use pandas.concat instead.\n",
            "  result_df_it = result_df_it.append({'N': N, 'Price': price, 'ERR': err}, ignore_index=True)\n",
            "<ipython-input-8-2bff1c1749a5>:15: FutureWarning: The frame.append method is deprecated and will be removed from pandas in a future version. Use pandas.concat instead.\n",
            "  result_df_it = result_df_it.append({'N': N, 'Price': price, 'ERR': err}, ignore_index=True)\n",
            "<ipython-input-8-2bff1c1749a5>:15: FutureWarning: The frame.append method is deprecated and will be removed from pandas in a future version. Use pandas.concat instead.\n",
            "  result_df_it = result_df_it.append({'N': N, 'Price': price, 'ERR': err}, ignore_index=True)\n",
            "<ipython-input-8-2bff1c1749a5>:15: FutureWarning: The frame.append method is deprecated and will be removed from pandas in a future version. Use pandas.concat instead.\n",
            "  result_df_it = result_df_it.append({'N': N, 'Price': price, 'ERR': err}, ignore_index=True)\n",
            "<ipython-input-8-2bff1c1749a5>:15: FutureWarning: The frame.append method is deprecated and will be removed from pandas in a future version. Use pandas.concat instead.\n",
            "  result_df_it = result_df_it.append({'N': N, 'Price': price, 'ERR': err}, ignore_index=True)\n",
            "<ipython-input-8-2bff1c1749a5>:15: FutureWarning: The frame.append method is deprecated and will be removed from pandas in a future version. Use pandas.concat instead.\n",
            "  result_df_it = result_df_it.append({'N': N, 'Price': price, 'ERR': err}, ignore_index=True)\n"
          ]
        },
        {
          "output_type": "stream",
          "name": "stdout",
          "text": [
            "           N     Price       ERR\n",
            "0    10000.0  6.600967  0.015688\n",
            "1    20000.0  6.650060  0.033405\n",
            "2    40000.0  6.628623  0.011969\n",
            "3    80000.0  6.631274  0.014619\n",
            "4   160000.0  6.637338  0.020683\n",
            "5   320000.0  6.624188  0.007533\n",
            "6   640000.0  6.621166  0.004511\n",
            "7  1280000.0  6.616959  0.000304\n",
            "8  2560000.0  6.620114  0.003459\n",
            "9  5120000.0  6.617664  0.001009\n"
          ]
        },
        {
          "output_type": "stream",
          "name": "stderr",
          "text": [
            "<ipython-input-8-2bff1c1749a5>:15: FutureWarning: The frame.append method is deprecated and will be removed from pandas in a future version. Use pandas.concat instead.\n",
            "  result_df_it = result_df_it.append({'N': N, 'Price': price, 'ERR': err}, ignore_index=True)\n"
          ]
        }
      ]
    },
    {
      "cell_type": "code",
      "source": [
        "# acceptance-rejection\n",
        "import numpy as np\n",
        "\n",
        "def acceptance_rejection(u1: float, u2: float, u3: float):\n",
        "    \"\"\"\n",
        "    Generate independent samples from standard normal distribution by using\n",
        "    acceptance-rejection methods\n",
        "    \"\"\"\n",
        "    X = -np.log(u1) if u3 < 0.5 else np.log(u1)\n",
        "\n",
        "    # Calculate the density of the standard normal distribution at X\n",
        "    f_X = (1/np.sqrt(2*np.pi)) * np.exp(-0.5 * X**2)\n",
        "\n",
        "    # Calculate the density of the symmetrized exponential distribution at X\n",
        "    g_X = 0.5 * np.exp(-np.abs(X))\n",
        "\n",
        "    # Calculate the acceptance probability\n",
        "    c = np.sqrt(2*np.e/np.pi)\n",
        "    accept_prob = f_X / (c * g_X)\n",
        "\n",
        "    # Accept or reject the sample based on the acceptance probability\n",
        "    return X if u2 < accept_prob else None"
      ],
      "metadata": {
        "id": "76mXG-XDYYcZ"
      },
      "execution_count": 9,
      "outputs": []
    },
    {
      "cell_type": "code",
      "source": [
        "result_df_ar = pd.DataFrame(columns=['N', 'N_AR', 'Price', 'ERR'])\n",
        "\n",
        "for k in range(10):\n",
        "    price = 0\n",
        "    N_AR = 0\n",
        "    N = 10000 * (2**k)\n",
        "    U = linear_congruential_generator(N)\n",
        "\n",
        "    for i in range(int(N//3)):\n",
        "        u1 = U[3*i]\n",
        "        u2 = U[3*i+1]\n",
        "        u3 = U[3*i+2]\n",
        "        zi = acceptance_rejection(u1,u2,u3)\n",
        "        if zi != None:\n",
        "            N_AR += 1\n",
        "            ST = simulated_spot(S0, T, r, q, sigma, zi)\n",
        "            p = put_payoff(ST, K, T, r)\n",
        "            price += p\n",
        "\n",
        "    price /= N_AR\n",
        "    err = np.abs(bs_value - price)\n",
        "\n",
        "    result_df_ar = result_df_ar.append({'N': N, 'N_AR': N_AR, 'Price': price, 'ERR': err}, ignore_index=True)\n",
        "\n",
        "print(result_df_ar)"
      ],
      "metadata": {
        "colab": {
          "base_uri": "https://localhost:8080/"
        },
        "id": "fIlccl3KBeN1",
        "outputId": "e163ec5a-8ac0-4343-ef1d-ef4be509ff8f"
      },
      "execution_count": 10,
      "outputs": [
        {
          "output_type": "stream",
          "name": "stderr",
          "text": [
            "<ipython-input-10-f792f8755a4a>:23: FutureWarning: The frame.append method is deprecated and will be removed from pandas in a future version. Use pandas.concat instead.\n",
            "  result_df_ar = result_df_ar.append({'N': N, 'N_AR': N_AR, 'Price': price, 'ERR': err}, ignore_index=True)\n",
            "<ipython-input-10-f792f8755a4a>:23: FutureWarning: The frame.append method is deprecated and will be removed from pandas in a future version. Use pandas.concat instead.\n",
            "  result_df_ar = result_df_ar.append({'N': N, 'N_AR': N_AR, 'Price': price, 'ERR': err}, ignore_index=True)\n",
            "<ipython-input-10-f792f8755a4a>:23: FutureWarning: The frame.append method is deprecated and will be removed from pandas in a future version. Use pandas.concat instead.\n",
            "  result_df_ar = result_df_ar.append({'N': N, 'N_AR': N_AR, 'Price': price, 'ERR': err}, ignore_index=True)\n",
            "<ipython-input-10-f792f8755a4a>:23: FutureWarning: The frame.append method is deprecated and will be removed from pandas in a future version. Use pandas.concat instead.\n",
            "  result_df_ar = result_df_ar.append({'N': N, 'N_AR': N_AR, 'Price': price, 'ERR': err}, ignore_index=True)\n",
            "<ipython-input-10-f792f8755a4a>:23: FutureWarning: The frame.append method is deprecated and will be removed from pandas in a future version. Use pandas.concat instead.\n",
            "  result_df_ar = result_df_ar.append({'N': N, 'N_AR': N_AR, 'Price': price, 'ERR': err}, ignore_index=True)\n",
            "<ipython-input-10-f792f8755a4a>:23: FutureWarning: The frame.append method is deprecated and will be removed from pandas in a future version. Use pandas.concat instead.\n",
            "  result_df_ar = result_df_ar.append({'N': N, 'N_AR': N_AR, 'Price': price, 'ERR': err}, ignore_index=True)\n",
            "<ipython-input-10-f792f8755a4a>:23: FutureWarning: The frame.append method is deprecated and will be removed from pandas in a future version. Use pandas.concat instead.\n",
            "  result_df_ar = result_df_ar.append({'N': N, 'N_AR': N_AR, 'Price': price, 'ERR': err}, ignore_index=True)\n",
            "<ipython-input-10-f792f8755a4a>:23: FutureWarning: The frame.append method is deprecated and will be removed from pandas in a future version. Use pandas.concat instead.\n",
            "  result_df_ar = result_df_ar.append({'N': N, 'N_AR': N_AR, 'Price': price, 'ERR': err}, ignore_index=True)\n",
            "<ipython-input-10-f792f8755a4a>:23: FutureWarning: The frame.append method is deprecated and will be removed from pandas in a future version. Use pandas.concat instead.\n",
            "  result_df_ar = result_df_ar.append({'N': N, 'N_AR': N_AR, 'Price': price, 'ERR': err}, ignore_index=True)\n"
          ]
        },
        {
          "output_type": "stream",
          "name": "stdout",
          "text": [
            "           N       N_AR     Price       ERR\n",
            "0    10000.0     2546.0  6.528255  0.088400\n",
            "1    20000.0     5080.0  6.663936  0.047281\n",
            "2    40000.0    10161.0  6.612578  0.004076\n",
            "3    80000.0    20269.0  6.646650  0.029995\n",
            "4   160000.0    40502.0  6.585181  0.031473\n",
            "5   320000.0    81117.0  6.643441  0.026786\n",
            "6   640000.0   162220.0  6.606467  0.010188\n",
            "7  1280000.0   324352.0  6.607645  0.009009\n",
            "8  2560000.0   648827.0  6.609537  0.007118\n",
            "9  5120000.0  1297408.0  6.616177  0.000478\n"
          ]
        },
        {
          "output_type": "stream",
          "name": "stderr",
          "text": [
            "<ipython-input-10-f792f8755a4a>:23: FutureWarning: The frame.append method is deprecated and will be removed from pandas in a future version. Use pandas.concat instead.\n",
            "  result_df_ar = result_df_ar.append({'N': N, 'N_AR': N_AR, 'Price': price, 'ERR': err}, ignore_index=True)\n"
          ]
        }
      ]
    },
    {
      "cell_type": "code",
      "source": [
        "# box-muller (marsaglia-bray)\n",
        "\n",
        "def box_muller(u1: float, u2: float):\n",
        "    \"\"\"\n",
        "    Generate independent samples from standard normal distribution by using\n",
        "    box-muller methods\n",
        "    \"\"\"\n",
        "    v1 = 2 * u1 - 1\n",
        "    v2 = 2 * u2 - 1\n",
        "    X = v1**2 + v2**2\n",
        "\n",
        "    # If X is outside the unit circle, start over\n",
        "    if X >= 1 or X == 0:\n",
        "        return\n",
        "\n",
        "    multiplier = np.sqrt(-2 * np.log(X) / X)\n",
        "\n",
        "    z1 = v1 * multiplier\n",
        "    z2 = v2 * multiplier\n",
        "\n",
        "    return z1, z2"
      ],
      "metadata": {
        "id": "_Q2f9SSAYez9"
      },
      "execution_count": 11,
      "outputs": []
    },
    {
      "cell_type": "code",
      "source": [
        "result_df_bm = pd.DataFrame(columns=['N', 'N_BM', 'Price', 'ERR'])\n",
        "\n",
        "for k in range(10):\n",
        "    price = 0\n",
        "    N_BM = 0\n",
        "    N = 10000 * (2**k)\n",
        "    U = linear_congruential_generator(N)\n",
        "\n",
        "    for i in range(int(N//2)):\n",
        "        u1 = U[i]\n",
        "        u2 = U[2*i]\n",
        "        z = box_muller(u1,u2)\n",
        "        if z != None:\n",
        "            N_BM += 2\n",
        "            for zi in z:\n",
        "                ST = simulated_spot(S0, T, r, q, sigma, zi)\n",
        "                p = put_payoff(ST, K, T, r)\n",
        "                price += p\n",
        "\n",
        "    price /= N_BM\n",
        "    err = np.abs(bs_value - price)\n",
        "\n",
        "    result_df_bm = result_df_bm.append({'N': N, 'N_BM': N_BM, 'Price': price, 'ERR': err}, ignore_index=True)\n",
        "\n",
        "print(result_df_bm)"
      ],
      "metadata": {
        "colab": {
          "base_uri": "https://localhost:8080/"
        },
        "id": "Us-vUKo3DLjf",
        "outputId": "e85d0fa2-5ff4-4a05-a771-178e6b74790b"
      },
      "execution_count": 12,
      "outputs": [
        {
          "output_type": "stream",
          "name": "stderr",
          "text": [
            "<ipython-input-12-a67a8231fa65>:23: FutureWarning: The frame.append method is deprecated and will be removed from pandas in a future version. Use pandas.concat instead.\n",
            "  result_df_bm = result_df_bm.append({'N': N, 'N_BM': N_BM, 'Price': price, 'ERR': err}, ignore_index=True)\n",
            "<ipython-input-12-a67a8231fa65>:23: FutureWarning: The frame.append method is deprecated and will be removed from pandas in a future version. Use pandas.concat instead.\n",
            "  result_df_bm = result_df_bm.append({'N': N, 'N_BM': N_BM, 'Price': price, 'ERR': err}, ignore_index=True)\n",
            "<ipython-input-12-a67a8231fa65>:23: FutureWarning: The frame.append method is deprecated and will be removed from pandas in a future version. Use pandas.concat instead.\n",
            "  result_df_bm = result_df_bm.append({'N': N, 'N_BM': N_BM, 'Price': price, 'ERR': err}, ignore_index=True)\n",
            "<ipython-input-12-a67a8231fa65>:23: FutureWarning: The frame.append method is deprecated and will be removed from pandas in a future version. Use pandas.concat instead.\n",
            "  result_df_bm = result_df_bm.append({'N': N, 'N_BM': N_BM, 'Price': price, 'ERR': err}, ignore_index=True)\n",
            "<ipython-input-12-a67a8231fa65>:23: FutureWarning: The frame.append method is deprecated and will be removed from pandas in a future version. Use pandas.concat instead.\n",
            "  result_df_bm = result_df_bm.append({'N': N, 'N_BM': N_BM, 'Price': price, 'ERR': err}, ignore_index=True)\n",
            "<ipython-input-12-a67a8231fa65>:23: FutureWarning: The frame.append method is deprecated and will be removed from pandas in a future version. Use pandas.concat instead.\n",
            "  result_df_bm = result_df_bm.append({'N': N, 'N_BM': N_BM, 'Price': price, 'ERR': err}, ignore_index=True)\n",
            "<ipython-input-12-a67a8231fa65>:23: FutureWarning: The frame.append method is deprecated and will be removed from pandas in a future version. Use pandas.concat instead.\n",
            "  result_df_bm = result_df_bm.append({'N': N, 'N_BM': N_BM, 'Price': price, 'ERR': err}, ignore_index=True)\n",
            "<ipython-input-12-a67a8231fa65>:23: FutureWarning: The frame.append method is deprecated and will be removed from pandas in a future version. Use pandas.concat instead.\n",
            "  result_df_bm = result_df_bm.append({'N': N, 'N_BM': N_BM, 'Price': price, 'ERR': err}, ignore_index=True)\n",
            "<ipython-input-12-a67a8231fa65>:23: FutureWarning: The frame.append method is deprecated and will be removed from pandas in a future version. Use pandas.concat instead.\n",
            "  result_df_bm = result_df_bm.append({'N': N, 'N_BM': N_BM, 'Price': price, 'ERR': err}, ignore_index=True)\n"
          ]
        },
        {
          "output_type": "stream",
          "name": "stdout",
          "text": [
            "           N       N_BM     Price       ERR\n",
            "0    10000.0     7826.0  6.549263  0.067392\n",
            "1    20000.0    15626.0  6.582472  0.034182\n",
            "2    40000.0    31430.0  6.607572  0.009083\n",
            "3    80000.0    62944.0  6.632364  0.015709\n",
            "4   160000.0   126078.0  6.624103  0.007448\n",
            "5   320000.0   251454.0  6.620529  0.003874\n",
            "6   640000.0   502592.0  6.617175  0.000521\n",
            "7  1280000.0  1005342.0  6.616369  0.000286\n",
            "8  2560000.0  2010980.0  6.619829  0.003174\n",
            "9  5120000.0  4022982.0  6.621176  0.004522\n"
          ]
        },
        {
          "output_type": "stream",
          "name": "stderr",
          "text": [
            "<ipython-input-12-a67a8231fa65>:23: FutureWarning: The frame.append method is deprecated and will be removed from pandas in a future version. Use pandas.concat instead.\n",
            "  result_df_bm = result_df_bm.append({'N': N, 'N_BM': N_BM, 'Price': price, 'ERR': err}, ignore_index=True)\n"
          ]
        }
      ]
    }
  ],
  "metadata": {
    "kernelspec": {
      "display_name": "base",
      "language": "python",
      "name": "python3"
    },
    "language_info": {
      "codemirror_mode": {
        "name": "ipython",
        "version": 3
      },
      "file_extension": ".py",
      "mimetype": "text/x-python",
      "name": "python",
      "nbconvert_exporter": "python",
      "pygments_lexer": "ipython3",
      "version": "3.9.7"
    },
    "orig_nbformat": 4,
    "vscode": {
      "interpreter": {
        "hash": "40d3a090f54c6569ab1632332b64b2c03c39dcf918b08424e98f38b5ae0af88f"
      }
    },
    "colab": {
      "provenance": [],
      "include_colab_link": true
    }
  },
  "nbformat": 4,
  "nbformat_minor": 0
}